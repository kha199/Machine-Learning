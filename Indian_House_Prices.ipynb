{
  "nbformat": 4,
  "nbformat_minor": 0,
  "metadata": {
    "colab": {
      "name": "Indian House Prices",
      "provenance": [],
      "collapsed_sections": [],
      "authorship_tag": "ABX9TyNABJWJaJL78+9fqZDV0jlv",
      "include_colab_link": true
    },
    "kernelspec": {
      "name": "python3",
      "display_name": "Python 3"
    },
    "language_info": {
      "name": "python"
    }
  },
  "cells": [
    {
      "cell_type": "markdown",
      "metadata": {
        "id": "view-in-github",
        "colab_type": "text"
      },
      "source": [
        "<a href=\"https://colab.research.google.com/github/kha199/Machine-Learning/blob/main/Indian_House_Prices.ipynb\" target=\"_parent\"><img src=\"https://colab.research.google.com/assets/colab-badge.svg\" alt=\"Open In Colab\"/></a>"
      ]
    },
    {
      "cell_type": "code",
      "metadata": {
        "id": "rw_mlmw_Q3VO"
      },
      "source": [
        "import pandas as pd\n",
        "import numpy as np\n",
        "import matplotlib.pyplot as plt\n",
        "%matplotlib inline"
      ],
      "execution_count": 3,
      "outputs": []
    },
    {
      "cell_type": "code",
      "metadata": {
        "colab": {
          "base_uri": "https://localhost:8080/",
          "height": 258
        },
        "id": "NOGSoyTYRogi",
        "outputId": "2092d12d-b31a-4f76-85db-12bad950d2e9"
      },
      "source": [
        "df = pd.read_csv(\"Indian House Prices.csv\")\n",
        "df.head()"
      ],
      "execution_count": 4,
      "outputs": [
        {
          "output_type": "execute_result",
          "data": {
            "text/html": [
              "<div>\n",
              "<style scoped>\n",
              "    .dataframe tbody tr th:only-of-type {\n",
              "        vertical-align: middle;\n",
              "    }\n",
              "\n",
              "    .dataframe tbody tr th {\n",
              "        vertical-align: top;\n",
              "    }\n",
              "\n",
              "    .dataframe thead th {\n",
              "        text-align: right;\n",
              "    }\n",
              "</style>\n",
              "<table border=\"1\" class=\"dataframe\">\n",
              "  <thead>\n",
              "    <tr style=\"text-align: right;\">\n",
              "      <th></th>\n",
              "      <th>Unnamed: 0</th>\n",
              "      <th>Price</th>\n",
              "      <th>Area</th>\n",
              "      <th>Location</th>\n",
              "      <th>No. of Bedrooms</th>\n",
              "      <th>Resale</th>\n",
              "      <th>MaintenanceStaff</th>\n",
              "      <th>Gymnasium</th>\n",
              "      <th>SwimmingPool</th>\n",
              "      <th>LandscapedGardens</th>\n",
              "      <th>JoggingTrack</th>\n",
              "      <th>RainWaterHarvesting</th>\n",
              "      <th>IndoorGames</th>\n",
              "      <th>ShoppingMall</th>\n",
              "      <th>Intercom</th>\n",
              "      <th>SportsFacility</th>\n",
              "      <th>ATM</th>\n",
              "      <th>ClubHouse</th>\n",
              "      <th>School</th>\n",
              "      <th>24X7Security</th>\n",
              "      <th>PowerBackup</th>\n",
              "      <th>CarParking</th>\n",
              "      <th>StaffQuarter</th>\n",
              "      <th>Cafeteria</th>\n",
              "      <th>MultipurposeRoom</th>\n",
              "      <th>Hospital</th>\n",
              "      <th>WashingMachine</th>\n",
              "      <th>Gasconnection</th>\n",
              "      <th>AC</th>\n",
              "      <th>Wifi</th>\n",
              "      <th>Children'splayarea</th>\n",
              "      <th>LiftAvailable</th>\n",
              "      <th>BED</th>\n",
              "      <th>VaastuCompliant</th>\n",
              "      <th>Microwave</th>\n",
              "      <th>GolfCourse</th>\n",
              "      <th>TV</th>\n",
              "      <th>DiningTable</th>\n",
              "      <th>Sofa</th>\n",
              "      <th>Wardrobe</th>\n",
              "      <th>Refrigerator</th>\n",
              "      <th>City</th>\n",
              "      <th>Latitude</th>\n",
              "      <th>Longitude</th>\n",
              "    </tr>\n",
              "  </thead>\n",
              "  <tbody>\n",
              "    <tr>\n",
              "      <th>0</th>\n",
              "      <td>0</td>\n",
              "      <td>300.00</td>\n",
              "      <td>3340</td>\n",
              "      <td>JP Nagar Phase 1</td>\n",
              "      <td>4.0</td>\n",
              "      <td>0</td>\n",
              "      <td>1.0</td>\n",
              "      <td>1.0</td>\n",
              "      <td>1.0</td>\n",
              "      <td>1.0</td>\n",
              "      <td>1.0</td>\n",
              "      <td>1.0</td>\n",
              "      <td>1.0</td>\n",
              "      <td>0.0</td>\n",
              "      <td>1.0</td>\n",
              "      <td>1.0</td>\n",
              "      <td>0.0</td>\n",
              "      <td>1.0</td>\n",
              "      <td>0.0</td>\n",
              "      <td>1.0</td>\n",
              "      <td>1.0</td>\n",
              "      <td>0.0</td>\n",
              "      <td>0.0</td>\n",
              "      <td>0.0</td>\n",
              "      <td>0.0</td>\n",
              "      <td>0.0</td>\n",
              "      <td>0.0</td>\n",
              "      <td>0.0</td>\n",
              "      <td>0.0</td>\n",
              "      <td>0.0</td>\n",
              "      <td>1.0</td>\n",
              "      <td>1.0</td>\n",
              "      <td>0.0</td>\n",
              "      <td>0.0</td>\n",
              "      <td>0.0</td>\n",
              "      <td>0.0</td>\n",
              "      <td>0.0</td>\n",
              "      <td>0.0</td>\n",
              "      <td>0.0</td>\n",
              "      <td>0.0</td>\n",
              "      <td>0.0</td>\n",
              "      <td>Banglore</td>\n",
              "      <td>12.265594</td>\n",
              "      <td>76.646540</td>\n",
              "    </tr>\n",
              "    <tr>\n",
              "      <th>1</th>\n",
              "      <td>1</td>\n",
              "      <td>83.58</td>\n",
              "      <td>1675</td>\n",
              "      <td>Doddanekundi</td>\n",
              "      <td>3.0</td>\n",
              "      <td>0</td>\n",
              "      <td>0.0</td>\n",
              "      <td>0.0</td>\n",
              "      <td>0.0</td>\n",
              "      <td>0.0</td>\n",
              "      <td>0.0</td>\n",
              "      <td>0.0</td>\n",
              "      <td>0.0</td>\n",
              "      <td>0.0</td>\n",
              "      <td>1.0</td>\n",
              "      <td>0.0</td>\n",
              "      <td>0.0</td>\n",
              "      <td>0.0</td>\n",
              "      <td>0.0</td>\n",
              "      <td>0.0</td>\n",
              "      <td>1.0</td>\n",
              "      <td>0.0</td>\n",
              "      <td>0.0</td>\n",
              "      <td>0.0</td>\n",
              "      <td>0.0</td>\n",
              "      <td>0.0</td>\n",
              "      <td>0.0</td>\n",
              "      <td>0.0</td>\n",
              "      <td>0.0</td>\n",
              "      <td>0.0</td>\n",
              "      <td>0.0</td>\n",
              "      <td>1.0</td>\n",
              "      <td>0.0</td>\n",
              "      <td>0.0</td>\n",
              "      <td>0.0</td>\n",
              "      <td>0.0</td>\n",
              "      <td>0.0</td>\n",
              "      <td>0.0</td>\n",
              "      <td>0.0</td>\n",
              "      <td>0.0</td>\n",
              "      <td>0.0</td>\n",
              "      <td>Banglore</td>\n",
              "      <td>12.971319</td>\n",
              "      <td>77.696477</td>\n",
              "    </tr>\n",
              "    <tr>\n",
              "      <th>2</th>\n",
              "      <td>2</td>\n",
              "      <td>68.45</td>\n",
              "      <td>1670</td>\n",
              "      <td>Kengeri</td>\n",
              "      <td>3.0</td>\n",
              "      <td>0</td>\n",
              "      <td>1.0</td>\n",
              "      <td>1.0</td>\n",
              "      <td>1.0</td>\n",
              "      <td>1.0</td>\n",
              "      <td>1.0</td>\n",
              "      <td>1.0</td>\n",
              "      <td>1.0</td>\n",
              "      <td>0.0</td>\n",
              "      <td>1.0</td>\n",
              "      <td>1.0</td>\n",
              "      <td>0.0</td>\n",
              "      <td>1.0</td>\n",
              "      <td>0.0</td>\n",
              "      <td>1.0</td>\n",
              "      <td>1.0</td>\n",
              "      <td>1.0</td>\n",
              "      <td>0.0</td>\n",
              "      <td>0.0</td>\n",
              "      <td>1.0</td>\n",
              "      <td>0.0</td>\n",
              "      <td>0.0</td>\n",
              "      <td>0.0</td>\n",
              "      <td>0.0</td>\n",
              "      <td>0.0</td>\n",
              "      <td>1.0</td>\n",
              "      <td>1.0</td>\n",
              "      <td>0.0</td>\n",
              "      <td>0.0</td>\n",
              "      <td>0.0</td>\n",
              "      <td>0.0</td>\n",
              "      <td>0.0</td>\n",
              "      <td>0.0</td>\n",
              "      <td>0.0</td>\n",
              "      <td>0.0</td>\n",
              "      <td>0.0</td>\n",
              "      <td>Banglore</td>\n",
              "      <td>12.917657</td>\n",
              "      <td>77.483757</td>\n",
              "    </tr>\n",
              "    <tr>\n",
              "      <th>3</th>\n",
              "      <td>3</td>\n",
              "      <td>67.97</td>\n",
              "      <td>1220</td>\n",
              "      <td>Horamavu</td>\n",
              "      <td>2.0</td>\n",
              "      <td>0</td>\n",
              "      <td>0.0</td>\n",
              "      <td>1.0</td>\n",
              "      <td>1.0</td>\n",
              "      <td>1.0</td>\n",
              "      <td>1.0</td>\n",
              "      <td>1.0</td>\n",
              "      <td>1.0</td>\n",
              "      <td>0.0</td>\n",
              "      <td>1.0</td>\n",
              "      <td>1.0</td>\n",
              "      <td>0.0</td>\n",
              "      <td>1.0</td>\n",
              "      <td>0.0</td>\n",
              "      <td>1.0</td>\n",
              "      <td>1.0</td>\n",
              "      <td>1.0</td>\n",
              "      <td>0.0</td>\n",
              "      <td>0.0</td>\n",
              "      <td>1.0</td>\n",
              "      <td>0.0</td>\n",
              "      <td>0.0</td>\n",
              "      <td>0.0</td>\n",
              "      <td>0.0</td>\n",
              "      <td>0.0</td>\n",
              "      <td>1.0</td>\n",
              "      <td>1.0</td>\n",
              "      <td>0.0</td>\n",
              "      <td>0.0</td>\n",
              "      <td>0.0</td>\n",
              "      <td>0.0</td>\n",
              "      <td>0.0</td>\n",
              "      <td>0.0</td>\n",
              "      <td>0.0</td>\n",
              "      <td>0.0</td>\n",
              "      <td>0.0</td>\n",
              "      <td>Banglore</td>\n",
              "      <td>13.027331</td>\n",
              "      <td>77.660151</td>\n",
              "    </tr>\n",
              "    <tr>\n",
              "      <th>4</th>\n",
              "      <td>4</td>\n",
              "      <td>200.00</td>\n",
              "      <td>2502</td>\n",
              "      <td>Thanisandra</td>\n",
              "      <td>4.0</td>\n",
              "      <td>0</td>\n",
              "      <td>0.0</td>\n",
              "      <td>1.0</td>\n",
              "      <td>1.0</td>\n",
              "      <td>1.0</td>\n",
              "      <td>1.0</td>\n",
              "      <td>0.0</td>\n",
              "      <td>0.0</td>\n",
              "      <td>0.0</td>\n",
              "      <td>1.0</td>\n",
              "      <td>0.0</td>\n",
              "      <td>0.0</td>\n",
              "      <td>1.0</td>\n",
              "      <td>0.0</td>\n",
              "      <td>1.0</td>\n",
              "      <td>1.0</td>\n",
              "      <td>1.0</td>\n",
              "      <td>0.0</td>\n",
              "      <td>1.0</td>\n",
              "      <td>0.0</td>\n",
              "      <td>0.0</td>\n",
              "      <td>0.0</td>\n",
              "      <td>0.0</td>\n",
              "      <td>0.0</td>\n",
              "      <td>0.0</td>\n",
              "      <td>1.0</td>\n",
              "      <td>1.0</td>\n",
              "      <td>0.0</td>\n",
              "      <td>1.0</td>\n",
              "      <td>0.0</td>\n",
              "      <td>0.0</td>\n",
              "      <td>0.0</td>\n",
              "      <td>0.0</td>\n",
              "      <td>0.0</td>\n",
              "      <td>0.0</td>\n",
              "      <td>0.0</td>\n",
              "      <td>Banglore</td>\n",
              "      <td>13.054713</td>\n",
              "      <td>77.633926</td>\n",
              "    </tr>\n",
              "  </tbody>\n",
              "</table>\n",
              "</div>"
            ],
            "text/plain": [
              "   Unnamed: 0   Price  Area  ...      City   Latitude  Longitude\n",
              "0           0  300.00  3340  ...  Banglore  12.265594  76.646540\n",
              "1           1   83.58  1675  ...  Banglore  12.971319  77.696477\n",
              "2           2   68.45  1670  ...  Banglore  12.917657  77.483757\n",
              "3           3   67.97  1220  ...  Banglore  13.027331  77.660151\n",
              "4           4  200.00  2502  ...  Banglore  13.054713  77.633926\n",
              "\n",
              "[5 rows x 44 columns]"
            ]
          },
          "metadata": {},
          "execution_count": 4
        }
      ]
    },
    {
      "cell_type": "code",
      "metadata": {
        "colab": {
          "base_uri": "https://localhost:8080/"
        },
        "id": "H3vxJqqMSYej",
        "outputId": "60a0cbaf-f2d5-4566-b6a8-9975bad9ad10"
      },
      "source": [
        "df.isnull().sum()"
      ],
      "execution_count": 5,
      "outputs": [
        {
          "output_type": "execute_result",
          "data": {
            "text/plain": [
              "Unnamed: 0             0\n",
              "Price                  0\n",
              "Area                   0\n",
              "Location               0\n",
              "No. of Bedrooms        0\n",
              "Resale                 0\n",
              "MaintenanceStaff       0\n",
              "Gymnasium              0\n",
              "SwimmingPool           0\n",
              "LandscapedGardens      0\n",
              "JoggingTrack           0\n",
              "RainWaterHarvesting    0\n",
              "IndoorGames            0\n",
              "ShoppingMall           0\n",
              "Intercom               0\n",
              "SportsFacility         0\n",
              "ATM                    0\n",
              "ClubHouse              0\n",
              "School                 0\n",
              "24X7Security           0\n",
              "PowerBackup            0\n",
              "CarParking             0\n",
              "StaffQuarter           0\n",
              "Cafeteria              0\n",
              "MultipurposeRoom       0\n",
              "Hospital               0\n",
              "WashingMachine         0\n",
              "Gasconnection          0\n",
              "AC                     0\n",
              "Wifi                   0\n",
              "Children'splayarea     0\n",
              "LiftAvailable          0\n",
              "BED                    0\n",
              "VaastuCompliant        0\n",
              "Microwave              0\n",
              "GolfCourse             0\n",
              "TV                     0\n",
              "DiningTable            0\n",
              "Sofa                   0\n",
              "Wardrobe               0\n",
              "Refrigerator           0\n",
              "City                   0\n",
              "Latitude               0\n",
              "Longitude              0\n",
              "dtype: int64"
            ]
          },
          "metadata": {},
          "execution_count": 5
        }
      ]
    },
    {
      "cell_type": "code",
      "metadata": {
        "id": "_kZ1MB8pYAEm"
      },
      "source": [
        "df.rename(columns ={'No. of Bedrooms':'no_of_bedroom'}, inplace=True)"
      ],
      "execution_count": 6,
      "outputs": []
    },
    {
      "cell_type": "code",
      "metadata": {
        "colab": {
          "base_uri": "https://localhost:8080/",
          "height": 258
        },
        "id": "8P4GVI9MbmfW",
        "outputId": "e2d1295b-2a61-4f8f-8a77-f710794577b8"
      },
      "source": [
        "df.head()"
      ],
      "execution_count": 7,
      "outputs": [
        {
          "output_type": "execute_result",
          "data": {
            "text/html": [
              "<div>\n",
              "<style scoped>\n",
              "    .dataframe tbody tr th:only-of-type {\n",
              "        vertical-align: middle;\n",
              "    }\n",
              "\n",
              "    .dataframe tbody tr th {\n",
              "        vertical-align: top;\n",
              "    }\n",
              "\n",
              "    .dataframe thead th {\n",
              "        text-align: right;\n",
              "    }\n",
              "</style>\n",
              "<table border=\"1\" class=\"dataframe\">\n",
              "  <thead>\n",
              "    <tr style=\"text-align: right;\">\n",
              "      <th></th>\n",
              "      <th>Unnamed: 0</th>\n",
              "      <th>Price</th>\n",
              "      <th>Area</th>\n",
              "      <th>Location</th>\n",
              "      <th>no_of_bedroom</th>\n",
              "      <th>Resale</th>\n",
              "      <th>MaintenanceStaff</th>\n",
              "      <th>Gymnasium</th>\n",
              "      <th>SwimmingPool</th>\n",
              "      <th>LandscapedGardens</th>\n",
              "      <th>JoggingTrack</th>\n",
              "      <th>RainWaterHarvesting</th>\n",
              "      <th>IndoorGames</th>\n",
              "      <th>ShoppingMall</th>\n",
              "      <th>Intercom</th>\n",
              "      <th>SportsFacility</th>\n",
              "      <th>ATM</th>\n",
              "      <th>ClubHouse</th>\n",
              "      <th>School</th>\n",
              "      <th>24X7Security</th>\n",
              "      <th>PowerBackup</th>\n",
              "      <th>CarParking</th>\n",
              "      <th>StaffQuarter</th>\n",
              "      <th>Cafeteria</th>\n",
              "      <th>MultipurposeRoom</th>\n",
              "      <th>Hospital</th>\n",
              "      <th>WashingMachine</th>\n",
              "      <th>Gasconnection</th>\n",
              "      <th>AC</th>\n",
              "      <th>Wifi</th>\n",
              "      <th>Children'splayarea</th>\n",
              "      <th>LiftAvailable</th>\n",
              "      <th>BED</th>\n",
              "      <th>VaastuCompliant</th>\n",
              "      <th>Microwave</th>\n",
              "      <th>GolfCourse</th>\n",
              "      <th>TV</th>\n",
              "      <th>DiningTable</th>\n",
              "      <th>Sofa</th>\n",
              "      <th>Wardrobe</th>\n",
              "      <th>Refrigerator</th>\n",
              "      <th>City</th>\n",
              "      <th>Latitude</th>\n",
              "      <th>Longitude</th>\n",
              "    </tr>\n",
              "  </thead>\n",
              "  <tbody>\n",
              "    <tr>\n",
              "      <th>0</th>\n",
              "      <td>0</td>\n",
              "      <td>300.00</td>\n",
              "      <td>3340</td>\n",
              "      <td>JP Nagar Phase 1</td>\n",
              "      <td>4.0</td>\n",
              "      <td>0</td>\n",
              "      <td>1.0</td>\n",
              "      <td>1.0</td>\n",
              "      <td>1.0</td>\n",
              "      <td>1.0</td>\n",
              "      <td>1.0</td>\n",
              "      <td>1.0</td>\n",
              "      <td>1.0</td>\n",
              "      <td>0.0</td>\n",
              "      <td>1.0</td>\n",
              "      <td>1.0</td>\n",
              "      <td>0.0</td>\n",
              "      <td>1.0</td>\n",
              "      <td>0.0</td>\n",
              "      <td>1.0</td>\n",
              "      <td>1.0</td>\n",
              "      <td>0.0</td>\n",
              "      <td>0.0</td>\n",
              "      <td>0.0</td>\n",
              "      <td>0.0</td>\n",
              "      <td>0.0</td>\n",
              "      <td>0.0</td>\n",
              "      <td>0.0</td>\n",
              "      <td>0.0</td>\n",
              "      <td>0.0</td>\n",
              "      <td>1.0</td>\n",
              "      <td>1.0</td>\n",
              "      <td>0.0</td>\n",
              "      <td>0.0</td>\n",
              "      <td>0.0</td>\n",
              "      <td>0.0</td>\n",
              "      <td>0.0</td>\n",
              "      <td>0.0</td>\n",
              "      <td>0.0</td>\n",
              "      <td>0.0</td>\n",
              "      <td>0.0</td>\n",
              "      <td>Banglore</td>\n",
              "      <td>12.265594</td>\n",
              "      <td>76.646540</td>\n",
              "    </tr>\n",
              "    <tr>\n",
              "      <th>1</th>\n",
              "      <td>1</td>\n",
              "      <td>83.58</td>\n",
              "      <td>1675</td>\n",
              "      <td>Doddanekundi</td>\n",
              "      <td>3.0</td>\n",
              "      <td>0</td>\n",
              "      <td>0.0</td>\n",
              "      <td>0.0</td>\n",
              "      <td>0.0</td>\n",
              "      <td>0.0</td>\n",
              "      <td>0.0</td>\n",
              "      <td>0.0</td>\n",
              "      <td>0.0</td>\n",
              "      <td>0.0</td>\n",
              "      <td>1.0</td>\n",
              "      <td>0.0</td>\n",
              "      <td>0.0</td>\n",
              "      <td>0.0</td>\n",
              "      <td>0.0</td>\n",
              "      <td>0.0</td>\n",
              "      <td>1.0</td>\n",
              "      <td>0.0</td>\n",
              "      <td>0.0</td>\n",
              "      <td>0.0</td>\n",
              "      <td>0.0</td>\n",
              "      <td>0.0</td>\n",
              "      <td>0.0</td>\n",
              "      <td>0.0</td>\n",
              "      <td>0.0</td>\n",
              "      <td>0.0</td>\n",
              "      <td>0.0</td>\n",
              "      <td>1.0</td>\n",
              "      <td>0.0</td>\n",
              "      <td>0.0</td>\n",
              "      <td>0.0</td>\n",
              "      <td>0.0</td>\n",
              "      <td>0.0</td>\n",
              "      <td>0.0</td>\n",
              "      <td>0.0</td>\n",
              "      <td>0.0</td>\n",
              "      <td>0.0</td>\n",
              "      <td>Banglore</td>\n",
              "      <td>12.971319</td>\n",
              "      <td>77.696477</td>\n",
              "    </tr>\n",
              "    <tr>\n",
              "      <th>2</th>\n",
              "      <td>2</td>\n",
              "      <td>68.45</td>\n",
              "      <td>1670</td>\n",
              "      <td>Kengeri</td>\n",
              "      <td>3.0</td>\n",
              "      <td>0</td>\n",
              "      <td>1.0</td>\n",
              "      <td>1.0</td>\n",
              "      <td>1.0</td>\n",
              "      <td>1.0</td>\n",
              "      <td>1.0</td>\n",
              "      <td>1.0</td>\n",
              "      <td>1.0</td>\n",
              "      <td>0.0</td>\n",
              "      <td>1.0</td>\n",
              "      <td>1.0</td>\n",
              "      <td>0.0</td>\n",
              "      <td>1.0</td>\n",
              "      <td>0.0</td>\n",
              "      <td>1.0</td>\n",
              "      <td>1.0</td>\n",
              "      <td>1.0</td>\n",
              "      <td>0.0</td>\n",
              "      <td>0.0</td>\n",
              "      <td>1.0</td>\n",
              "      <td>0.0</td>\n",
              "      <td>0.0</td>\n",
              "      <td>0.0</td>\n",
              "      <td>0.0</td>\n",
              "      <td>0.0</td>\n",
              "      <td>1.0</td>\n",
              "      <td>1.0</td>\n",
              "      <td>0.0</td>\n",
              "      <td>0.0</td>\n",
              "      <td>0.0</td>\n",
              "      <td>0.0</td>\n",
              "      <td>0.0</td>\n",
              "      <td>0.0</td>\n",
              "      <td>0.0</td>\n",
              "      <td>0.0</td>\n",
              "      <td>0.0</td>\n",
              "      <td>Banglore</td>\n",
              "      <td>12.917657</td>\n",
              "      <td>77.483757</td>\n",
              "    </tr>\n",
              "    <tr>\n",
              "      <th>3</th>\n",
              "      <td>3</td>\n",
              "      <td>67.97</td>\n",
              "      <td>1220</td>\n",
              "      <td>Horamavu</td>\n",
              "      <td>2.0</td>\n",
              "      <td>0</td>\n",
              "      <td>0.0</td>\n",
              "      <td>1.0</td>\n",
              "      <td>1.0</td>\n",
              "      <td>1.0</td>\n",
              "      <td>1.0</td>\n",
              "      <td>1.0</td>\n",
              "      <td>1.0</td>\n",
              "      <td>0.0</td>\n",
              "      <td>1.0</td>\n",
              "      <td>1.0</td>\n",
              "      <td>0.0</td>\n",
              "      <td>1.0</td>\n",
              "      <td>0.0</td>\n",
              "      <td>1.0</td>\n",
              "      <td>1.0</td>\n",
              "      <td>1.0</td>\n",
              "      <td>0.0</td>\n",
              "      <td>0.0</td>\n",
              "      <td>1.0</td>\n",
              "      <td>0.0</td>\n",
              "      <td>0.0</td>\n",
              "      <td>0.0</td>\n",
              "      <td>0.0</td>\n",
              "      <td>0.0</td>\n",
              "      <td>1.0</td>\n",
              "      <td>1.0</td>\n",
              "      <td>0.0</td>\n",
              "      <td>0.0</td>\n",
              "      <td>0.0</td>\n",
              "      <td>0.0</td>\n",
              "      <td>0.0</td>\n",
              "      <td>0.0</td>\n",
              "      <td>0.0</td>\n",
              "      <td>0.0</td>\n",
              "      <td>0.0</td>\n",
              "      <td>Banglore</td>\n",
              "      <td>13.027331</td>\n",
              "      <td>77.660151</td>\n",
              "    </tr>\n",
              "    <tr>\n",
              "      <th>4</th>\n",
              "      <td>4</td>\n",
              "      <td>200.00</td>\n",
              "      <td>2502</td>\n",
              "      <td>Thanisandra</td>\n",
              "      <td>4.0</td>\n",
              "      <td>0</td>\n",
              "      <td>0.0</td>\n",
              "      <td>1.0</td>\n",
              "      <td>1.0</td>\n",
              "      <td>1.0</td>\n",
              "      <td>1.0</td>\n",
              "      <td>0.0</td>\n",
              "      <td>0.0</td>\n",
              "      <td>0.0</td>\n",
              "      <td>1.0</td>\n",
              "      <td>0.0</td>\n",
              "      <td>0.0</td>\n",
              "      <td>1.0</td>\n",
              "      <td>0.0</td>\n",
              "      <td>1.0</td>\n",
              "      <td>1.0</td>\n",
              "      <td>1.0</td>\n",
              "      <td>0.0</td>\n",
              "      <td>1.0</td>\n",
              "      <td>0.0</td>\n",
              "      <td>0.0</td>\n",
              "      <td>0.0</td>\n",
              "      <td>0.0</td>\n",
              "      <td>0.0</td>\n",
              "      <td>0.0</td>\n",
              "      <td>1.0</td>\n",
              "      <td>1.0</td>\n",
              "      <td>0.0</td>\n",
              "      <td>1.0</td>\n",
              "      <td>0.0</td>\n",
              "      <td>0.0</td>\n",
              "      <td>0.0</td>\n",
              "      <td>0.0</td>\n",
              "      <td>0.0</td>\n",
              "      <td>0.0</td>\n",
              "      <td>0.0</td>\n",
              "      <td>Banglore</td>\n",
              "      <td>13.054713</td>\n",
              "      <td>77.633926</td>\n",
              "    </tr>\n",
              "  </tbody>\n",
              "</table>\n",
              "</div>"
            ],
            "text/plain": [
              "   Unnamed: 0   Price  Area  ...      City   Latitude  Longitude\n",
              "0           0  300.00  3340  ...  Banglore  12.265594  76.646540\n",
              "1           1   83.58  1675  ...  Banglore  12.971319  77.696477\n",
              "2           2   68.45  1670  ...  Banglore  12.917657  77.483757\n",
              "3           3   67.97  1220  ...  Banglore  13.027331  77.660151\n",
              "4           4  200.00  2502  ...  Banglore  13.054713  77.633926\n",
              "\n",
              "[5 rows x 44 columns]"
            ]
          },
          "metadata": {},
          "execution_count": 7
        }
      ]
    },
    {
      "cell_type": "code",
      "metadata": {
        "colab": {
          "base_uri": "https://localhost:8080/",
          "height": 279
        },
        "id": "yu3cbiuddtSi",
        "outputId": "22121d52-857d-432b-820e-3944c4e9acda"
      },
      "source": [
        "plt.scatter(df.Area,df.Price,color='blue')\n",
        "plt.xlabel(\"Area\")\n",
        "plt.ylabel(\"Price\")\n",
        "plt.show()"
      ],
      "execution_count": 8,
      "outputs": [
        {
          "output_type": "display_data",
          "data": {
            "image/png": "[encoded data removed]",
            "text/plain": [
              "<Figure size 432x288 with 1 Axes>"
            ]
          },
          "metadata": {
            "needs_background": "light"
          }
        }
      ]
    },
    {
      "cell_type": "code",
      "metadata": {
        "colab": {
          "base_uri": "https://localhost:8080/",
          "height": 279
        },
        "id": "FlMoTRmLd8kD",
        "outputId": "d923b263-54d7-4ef3-f015-b791a3502537"
      },
      "source": [
        "plt.scatter(df.no_of_bedroom,df.Price,color='blue')\n",
        "plt.xlabel(\"No Of Bedroom\")\n",
        "plt.ylabel(\"Price\")\n",
        "plt.show()"
      ],
      "execution_count": 9,
      "outputs": [
        {
          "output_type": "display_data",
          "data": {
            "image/png": "[encoded data removed]",
            "text/plain": [
              "<Figure size 432x288 with 1 Axes>"
            ]
          },
          "metadata": {
            "needs_background": "light"
          }
        }
      ]
    },
    {
      "cell_type": "code",
      "metadata": {
        "colab": {
          "base_uri": "https://localhost:8080/",
          "height": 279
        },
        "id": "my3LrAS5TL8Y",
        "outputId": "14d064cb-718c-410f-9b7c-10c048c1f2ab"
      },
      "source": [
        "plt.scatter(df.Resale,df.Price,color='blue')\n",
        "plt.xlabel(\"Resale\")\n",
        "plt.ylabel(\"Price\")\n",
        "plt.show()"
      ],
      "execution_count": 10,
      "outputs": [
        {
          "output_type": "display_data",
          "data": {
            "image/png": "[encoded data removed]",
            "text/plain": [
              "<Figure size 432x288 with 1 Axes>"
            ]
          },
          "metadata": {
            "needs_background": "light"
          }
        }
      ]
    },
    {
      "cell_type": "code",
      "metadata": {
        "colab": {
          "base_uri": "https://localhost:8080/",
          "height": 279
        },
        "id": "-mXc_PjKeUaP",
        "outputId": "1009af64-6a96-4014-ea60-a43423929c37"
      },
      "source": [
        "plt.scatter(df.City,df.Price,color='blue')\n",
        "plt.xlabel(\"City\")\n",
        "plt.ylabel(\"Price\")\n",
        "plt.show()"
      ],
      "execution_count": 11,
      "outputs": [
        {
          "output_type": "display_data",
          "data": {
            "image/png": "[encoded data removed]",
            "text/plain": [
              "<Figure size 432x288 with 1 Axes>"
            ]
          },
          "metadata": {
            "needs_background": "light"
          }
        }
      ]
    },
    {
      "cell_type": "code",
      "metadata": {
        "colab": {
          "base_uri": "https://localhost:8080/",
          "height": 279
        },
        "id": "tIec4gO6efvx",
        "outputId": "ce0689c0-6b0e-4f73-98a3-c07ab3a48227"
      },
      "source": [
        "plt.scatter(df.Latitude,df.Price,color='blue')\n",
        "plt.xlabel(\"Latitude\")\n",
        "plt.ylabel(\"Price\")\n",
        "plt.show()"
      ],
      "execution_count": 12,
      "outputs": [
        {
          "output_type": "display_data",
          "data": {
            "image/png": "[encoded data removed]",
            "text/plain": [
              "<Figure size 432x288 with 1 Axes>"
            ]
          },
          "metadata": {
            "needs_background": "light"
          }
        }
      ]
    },
    {
      "cell_type": "code",
      "metadata": {
        "colab": {
          "base_uri": "https://localhost:8080/",
          "height": 279
        },
        "id": "Uf1O3rfaeovj",
        "outputId": "a99a44a3-dd11-43d3-93a3-c172ca203a93"
      },
      "source": [
        "plt.scatter(df.Longitude,df.Price,color='blue')\n",
        "plt.xlabel(\"Longitude\")\n",
        "plt.ylabel(\"Price\")\n",
        "plt.show()"
      ],
      "execution_count": 13,
      "outputs": [
        {
          "output_type": "display_data",
          "data": {
            "image/png": "[encoded data removed]",
            "text/plain": [
              "<Figure size 432x288 with 1 Axes>"
            ]
          },
          "metadata": {
            "needs_background": "light"
          }
        }
      ]
    },
    {
      "cell_type": "code",
      "metadata": {
        "colab": {
          "base_uri": "https://localhost:8080/",
          "height": 204
        },
        "id": "eBZbAcoTbrhY",
        "outputId": "8bf5b2ca-a321-492d-8577-bc5e31596426"
      },
      "source": [
        "x = df[[\"Price\",\"Area\",\"no_of_bedroom\",\"City\",\"Latitude\",\"Longitude\"]]\n",
        "x.head()"
      ],
      "execution_count": 14,
      "outputs": [
        {
          "output_type": "execute_result",
          "data": {
            "text/html": [
              "<div>\n",
              "<style scoped>\n",
              "    .dataframe tbody tr th:only-of-type {\n",
              "        vertical-align: middle;\n",
              "    }\n",
              "\n",
              "    .dataframe tbody tr th {\n",
              "        vertical-align: top;\n",
              "    }\n",
              "\n",
              "    .dataframe thead th {\n",
              "        text-align: right;\n",
              "    }\n",
              "</style>\n",
              "<table border=\"1\" class=\"dataframe\">\n",
              "  <thead>\n",
              "    <tr style=\"text-align: right;\">\n",
              "      <th></th>\n",
              "      <th>Price</th>\n",
              "      <th>Area</th>\n",
              "      <th>no_of_bedroom</th>\n",
              "      <th>City</th>\n",
              "      <th>Latitude</th>\n",
              "      <th>Longitude</th>\n",
              "    </tr>\n",
              "  </thead>\n",
              "  <tbody>\n",
              "    <tr>\n",
              "      <th>0</th>\n",
              "      <td>300.00</td>\n",
              "      <td>3340</td>\n",
              "      <td>4.0</td>\n",
              "      <td>Banglore</td>\n",
              "      <td>12.265594</td>\n",
              "      <td>76.646540</td>\n",
              "    </tr>\n",
              "    <tr>\n",
              "      <th>1</th>\n",
              "      <td>83.58</td>\n",
              "      <td>1675</td>\n",
              "      <td>3.0</td>\n",
              "      <td>Banglore</td>\n",
              "      <td>12.971319</td>\n",
              "      <td>77.696477</td>\n",
              "    </tr>\n",
              "    <tr>\n",
              "      <th>2</th>\n",
              "      <td>68.45</td>\n",
              "      <td>1670</td>\n",
              "      <td>3.0</td>\n",
              "      <td>Banglore</td>\n",
              "      <td>12.917657</td>\n",
              "      <td>77.483757</td>\n",
              "    </tr>\n",
              "    <tr>\n",
              "      <th>3</th>\n",
              "      <td>67.97</td>\n",
              "      <td>1220</td>\n",
              "      <td>2.0</td>\n",
              "      <td>Banglore</td>\n",
              "      <td>13.027331</td>\n",
              "      <td>77.660151</td>\n",
              "    </tr>\n",
              "    <tr>\n",
              "      <th>4</th>\n",
              "      <td>200.00</td>\n",
              "      <td>2502</td>\n",
              "      <td>4.0</td>\n",
              "      <td>Banglore</td>\n",
              "      <td>13.054713</td>\n",
              "      <td>77.633926</td>\n",
              "    </tr>\n",
              "  </tbody>\n",
              "</table>\n",
              "</div>"
            ],
            "text/plain": [
              "    Price  Area  no_of_bedroom      City   Latitude  Longitude\n",
              "0  300.00  3340            4.0  Banglore  12.265594  76.646540\n",
              "1   83.58  1675            3.0  Banglore  12.971319  77.696477\n",
              "2   68.45  1670            3.0  Banglore  12.917657  77.483757\n",
              "3   67.97  1220            2.0  Banglore  13.027331  77.660151\n",
              "4  200.00  2502            4.0  Banglore  13.054713  77.633926"
            ]
          },
          "metadata": {},
          "execution_count": 14
        }
      ]
    },
    {
      "cell_type": "code",
      "metadata": {
        "colab": {
          "base_uri": "https://localhost:8080/"
        },
        "id": "KVzH9w_uck2g",
        "outputId": "f12cfd08-34b3-4bc5-d459-ec325e653a39"
      },
      "source": [
        "from sklearn import preprocessing\n",
        "label_encoder = preprocessing.LabelEncoder()\n",
        "\n",
        "x['City'] = label_encoder.fit_transform(x['City'])"
      ],
      "execution_count": 15,
      "outputs": [
        {
          "output_type": "stream",
          "name": "stderr",
          "text": [
            "/usr/local/lib/python3.7/dist-packages/ipykernel_launcher.py:4: SettingWithCopyWarning: \n",
            "A value is trying to be set on a copy of a slice from a DataFrame.\n",
            "Try using .loc[row_indexer,col_indexer] = value instead\n",
            "\n",
            "See the caveats in the documentation: https://pandas.pydata.org/pandas-docs/stable/user_guide/indexing.html#returning-a-view-versus-a-copy\n",
            "  after removing the cwd from sys.path.\n"
          ]
        }
      ]
    },
    {
      "cell_type": "code",
      "metadata": {
        "colab": {
          "base_uri": "https://localhost:8080/",
          "height": 204
        },
        "id": "pzRBCBpxiukw",
        "outputId": "3bb6f063-c4ad-49a9-c80c-e440c9cf4596"
      },
      "source": [
        "x.head()"
      ],
      "execution_count": 16,
      "outputs": [
        {
          "output_type": "execute_result",
          "data": {
            "text/html": [
              "<div>\n",
              "<style scoped>\n",
              "    .dataframe tbody tr th:only-of-type {\n",
              "        vertical-align: middle;\n",
              "    }\n",
              "\n",
              "    .dataframe tbody tr th {\n",
              "        vertical-align: top;\n",
              "    }\n",
              "\n",
              "    .dataframe thead th {\n",
              "        text-align: right;\n",
              "    }\n",
              "</style>\n",
              "<table border=\"1\" class=\"dataframe\">\n",
              "  <thead>\n",
              "    <tr style=\"text-align: right;\">\n",
              "      <th></th>\n",
              "      <th>Price</th>\n",
              "      <th>Area</th>\n",
              "      <th>no_of_bedroom</th>\n",
              "      <th>City</th>\n",
              "      <th>Latitude</th>\n",
              "      <th>Longitude</th>\n",
              "    </tr>\n",
              "  </thead>\n",
              "  <tbody>\n",
              "    <tr>\n",
              "      <th>0</th>\n",
              "      <td>300.00</td>\n",
              "      <td>3340</td>\n",
              "      <td>4.0</td>\n",
              "      <td>0</td>\n",
              "      <td>12.265594</td>\n",
              "      <td>76.646540</td>\n",
              "    </tr>\n",
              "    <tr>\n",
              "      <th>1</th>\n",
              "      <td>83.58</td>\n",
              "      <td>1675</td>\n",
              "      <td>3.0</td>\n",
              "      <td>0</td>\n",
              "      <td>12.971319</td>\n",
              "      <td>77.696477</td>\n",
              "    </tr>\n",
              "    <tr>\n",
              "      <th>2</th>\n",
              "      <td>68.45</td>\n",
              "      <td>1670</td>\n",
              "      <td>3.0</td>\n",
              "      <td>0</td>\n",
              "      <td>12.917657</td>\n",
              "      <td>77.483757</td>\n",
              "    </tr>\n",
              "    <tr>\n",
              "      <th>3</th>\n",
              "      <td>67.97</td>\n",
              "      <td>1220</td>\n",
              "      <td>2.0</td>\n",
              "      <td>0</td>\n",
              "      <td>13.027331</td>\n",
              "      <td>77.660151</td>\n",
              "    </tr>\n",
              "    <tr>\n",
              "      <th>4</th>\n",
              "      <td>200.00</td>\n",
              "      <td>2502</td>\n",
              "      <td>4.0</td>\n",
              "      <td>0</td>\n",
              "      <td>13.054713</td>\n",
              "      <td>77.633926</td>\n",
              "    </tr>\n",
              "  </tbody>\n",
              "</table>\n",
              "</div>"
            ],
            "text/plain": [
              "    Price  Area  no_of_bedroom  City   Latitude  Longitude\n",
              "0  300.00  3340            4.0     0  12.265594  76.646540\n",
              "1   83.58  1675            3.0     0  12.971319  77.696477\n",
              "2   68.45  1670            3.0     0  12.917657  77.483757\n",
              "3   67.97  1220            2.0     0  13.027331  77.660151\n",
              "4  200.00  2502            4.0     0  13.054713  77.633926"
            ]
          },
          "metadata": {},
          "execution_count": 16
        }
      ]
    },
    {
      "cell_type": "code",
      "metadata": {
        "id": "53nCnadfdUJJ"
      },
      "source": [
        "m = np.random.rand(len(df))<0.8\n",
        "train = x[m]\n",
        "test = x[~m]"
      ],
      "execution_count": 17,
      "outputs": []
    },
    {
      "cell_type": "code",
      "metadata": {
        "colab": {
          "base_uri": "https://localhost:8080/"
        },
        "id": "Lft9m8UEdkDi",
        "outputId": "7ff58342-de46-4b69-c8c8-4cddd3e483a9"
      },
      "source": [
        "from sklearn.preprocessing import PolynomialFeatures\n",
        "from sklearn import linear_model\n",
        "\n",
        "x_train = np.asanyarray(train[[\"Area\",\"no_of_bedroom\",\"City\",\"Latitude\",\"Longitude\"]])\n",
        "y_train = np.asanyarray(train[[\"Price\"]])\n",
        "\n",
        "poly=PolynomialFeatures(degree=2)\n",
        "poly_x_train=poly.fit_transform(x_train)\n",
        "poly_x_trian\n"
      ],
      "execution_count": 28,
      "outputs": [
        {
          "output_type": "execute_result",
          "data": {
            "text/plain": [
              "array([[1.00000000e+00, 1.67500000e+03, 3.00000000e+00, ...,\n",
              "        1.68255127e+02, 1.00782582e+03, 6.03674251e+03],\n",
              "       [1.00000000e+00, 1.67000000e+03, 3.00000000e+00, ...,\n",
              "        1.66865865e+02, 1.00090860e+03, 6.00373257e+03],\n",
              "       [1.00000000e+00, 1.22000000e+03, 2.00000000e+00, ...,\n",
              "        1.69711358e+02, 1.01170451e+03, 6.03109902e+03],\n",
              "       ...,\n",
              "       [1.00000000e+00, 1.45000000e+03, 3.00000000e+00, ...,\n",
              "        3.61444592e+02, 1.38439503e+03, 5.30247135e+03],\n",
              "       [1.00000000e+00, 1.24500000e+03, 2.00000000e+00, ...,\n",
              "        8.79492933e+02, 2.35566035e+03, 6.30947158e+03],\n",
              "       [1.00000000e+00, 1.18300000e+03, 2.00000000e+00, ...,\n",
              "        8.79492933e+02, 2.35566035e+03, 6.30947158e+03]])"
            ]
          },
          "metadata": {},
          "execution_count": 28
        }
      ]
    },
    {
      "cell_type": "code",
      "metadata": {
        "colab": {
          "base_uri": "https://localhost:8080/"
        },
        "id": "iJE5fQGr9qsg",
        "outputId": "9834beac-8df4-4a3a-c71c-26cbf9cf0a50"
      },
      "source": [
        "regr=linear_model.LinearRegression()\n",
        "\n",
        "regr.fit(poly_x_train,y_train)\n",
        "print(\"coefficient:\",regr.coef_)\n",
        "print(\"intercept:\",regr.intercept_)"
      ],
      "execution_count": 29,
      "outputs": [
        {
          "output_type": "stream",
          "name": "stdout",
          "text": [
            "coefficient: [[ 0.00000000e+00  1.36922075e-01  1.79816712e+01 -3.46848773e+01\n",
            "   8.38379091e-01  1.48687918e+00  2.26355973e-05 -2.60391866e-02\n",
            "   1.52326431e-02 -3.52850606e-05 -7.42946858e-04  7.18998764e+00\n",
            "   4.56410478e+00 -5.18197258e-01 -2.37734387e-01  1.24225714e+01\n",
            "  -8.63860646e-01 -4.03178942e-01  3.32867274e-02  4.79356022e-02\n",
            "  -1.53433572e-04]]\n",
            "intercept: [-165.9602822]\n"
          ]
        }
      ]
    },
    {
      "cell_type": "code",
      "metadata": {
        "colab": {
          "base_uri": "https://localhost:8080/"
        },
        "id": "sYp_5_g2fMWJ",
        "outputId": "88f216cc-be6b-4f1d-a870-9d79e8dec01c"
      },
      "source": [
        "x_test = np.asanyarray(test[[\"Area\",\"no_of_bedroom\",\"City\",\"Latitude\",\"Longitude\"]])\n",
        "y_test = np.asanyarray(test[[\"Price\"]])\n",
        "\n",
        "x_test_poly=poly.fit_transform(x_test)\n",
        "\n",
        "y_hat = regr.predict(x_test_poly)\n",
        "y_hat"
      ],
      "execution_count": 30,
      "outputs": [
        {
          "output_type": "execute_result",
          "data": {
            "text/plain": [
              "array([[266.42529937],\n",
              "       [102.77001166],\n",
              "       [120.43758322],\n",
              "       ...,\n",
              "       [141.78372026],\n",
              "       [ 43.25422775],\n",
              "       [181.52463905]])"
            ]
          },
          "metadata": {},
          "execution_count": 30
        }
      ]
    },
    {
      "cell_type": "code",
      "metadata": {
        "colab": {
          "base_uri": "https://localhost:8080/"
        },
        "id": "kc4RSdECh7Pi",
        "outputId": "7d2ac49c-eb05-4406-cce0-5491f170f12d"
      },
      "source": [
        "from sklearn.metrics import r2_score\n",
        "\n",
        "print(r2_score(y_test,y_hat))"
      ],
      "execution_count": 31,
      "outputs": [
        {
          "output_type": "stream",
          "name": "stdout",
          "text": [
            "0.6208539200266125\n"
          ]
        }
      ]
    }
  ]
}