{
  "nbformat": 4,
  "nbformat_minor": 0,
  "metadata": {
    "colab": {
      "name": "internship assignment-2  web scraping",
      "provenance": [],
      "authorship_tag": "ABX9TyOhF/7RReN2NsRzo8TGc3lx",
      "include_colab_link": true
    },
    "kernelspec": {
      "name": "python3",
      "display_name": "Python 3"
    },
    "language_info": {
      "name": "python"
    }
  },
  "cells": [
    {
      "cell_type": "markdown",
      "metadata": {
        "id": "view-in-github",
        "colab_type": "text"
      },
      "source": [
        "<a href=\"https://colab.research.google.com/github/kha199/Machine-Learning/blob/main/internship_assignment_2_web_scraping.ipynb\" target=\"_parent\"><img src=\"https://colab.research.google.com/assets/colab-badge.svg\" alt=\"Open In Colab\"/></a>"
      ]
    },
    {
      "cell_type": "code",
      "execution_count": 1,
      "metadata": {
        "id": "31-fjCjE45h3"
      },
      "outputs": [],
      "source": [
        "import pandas as pd\n",
        "import numpy as np"
      ]
    },
    {
      "cell_type": "markdown",
      "source": [
        "#**1) header tags**"
      ],
      "metadata": {
        "id": "np80YWi_5S5b"
      }
    },
    {
      "cell_type": "code",
      "source": [
        "from bs4 import BeautifulSoup\n",
        "import requests"
      ],
      "metadata": {
        "id": "vTYEWJS65gj6"
      },
      "execution_count": 2,
      "outputs": []
    },
    {
      "cell_type": "code",
      "source": [
        "wikipedia_page = requests.get('https://en.wikipedia.org/wiki/Main_Page')"
      ],
      "metadata": {
        "id": "RgAxBXTE5mmu"
      },
      "execution_count": 3,
      "outputs": []
    },
    {
      "cell_type": "code",
      "source": [
        "wikipedia_page"
      ],
      "metadata": {
        "colab": {
          "base_uri": "https://localhost:8080/"
        },
        "id": "aYh-b6by5pfS",
        "outputId": "c67dad03-f65c-4cc9-9083-1e1cae906223"
      },
      "execution_count": 4,
      "outputs": [
        {
          "output_type": "execute_result",
          "data": {
            "text/plain": [
              "<Response [200]>"
            ]
          },
          "metadata": {},
          "execution_count": 4
        }
      ]
    },
    {
      "cell_type": "code",
      "source": [
        "soup_wikipedia = BeautifulSoup(wikipedia_page.content)"
      ],
      "metadata": {
        "id": "_htALKF75syK"
      },
      "execution_count": 9,
      "outputs": []
    },
    {
      "cell_type": "code",
      "source": [
        "h1_tags = []\n",
        "\n",
        "for i in soup_wikipedia.find_all('h1'):\n",
        "    h1_tags.append(i.text)\n",
        "    \n",
        "    \n",
        "h1_tags"
      ],
      "metadata": {
        "colab": {
          "base_uri": "https://localhost:8080/"
        },
        "id": "SHSYXXv95w25",
        "outputId": "22fae365-29c5-4264-eff0-fbc2c7d862b6"
      },
      "execution_count": 6,
      "outputs": [
        {
          "output_type": "execute_result",
          "data": {
            "text/plain": [
              "['Main Page', 'Welcome to Wikipedia']"
            ]
          },
          "metadata": {},
          "execution_count": 6
        }
      ]
    },
    {
      "cell_type": "code",
      "source": [
        "h2_tags = []\n",
        "\n",
        "for i in soup_wikipedia.find_all('h2'):\n",
        "    h2_tags.append(i.text)\n",
        "    \n",
        "    \n",
        "h2_tags"
      ],
      "metadata": {
        "colab": {
          "base_uri": "https://localhost:8080/"
        },
        "id": "HNuNGWiw503T",
        "outputId": "246bb748-1a28-4bf1-d0ee-786626f82b10"
      },
      "execution_count": 7,
      "outputs": [
        {
          "output_type": "execute_result",
          "data": {
            "text/plain": [
              "[\"From today's featured article\",\n",
              " 'Did you know\\xa0...',\n",
              " 'In the news',\n",
              " 'On this day',\n",
              " \"Today's featured picture\",\n",
              " 'Other areas of Wikipedia',\n",
              " \"Wikipedia's sister projects\",\n",
              " 'Wikipedia languages',\n",
              " 'Navigation menu']"
            ]
          },
          "metadata": {},
          "execution_count": 7
        }
      ]
    },
    {
      "cell_type": "code",
      "source": [
        "h3_tags = []\n",
        "\n",
        "for i in soup_wikipedia.find_all('h3'):\n",
        "    h3_tags.append(i.text.split('\\n')[1])\n",
        "    \n",
        "    \n",
        "h3_tags"
      ],
      "metadata": {
        "colab": {
          "base_uri": "https://localhost:8080/"
        },
        "id": "7xcTdg5X54Cq",
        "outputId": "2eafd072-ee6b-4472-ea3d-834801373e4f"
      },
      "execution_count": 8,
      "outputs": [
        {
          "output_type": "execute_result",
          "data": {
            "text/plain": [
              "['Search']"
            ]
          },
          "metadata": {},
          "execution_count": 8
        }
      ]
    }
  ]
}