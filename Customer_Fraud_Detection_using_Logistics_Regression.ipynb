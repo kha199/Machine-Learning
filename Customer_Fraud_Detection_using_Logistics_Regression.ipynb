{
  "nbformat": 4,
  "nbformat_minor": 0,
  "metadata": {
    "colab": {
      "name": "Customer Fraud Detection using Logistics Regression",
      "provenance": [],
      "collapsed_sections": [],
      "authorship_tag": "ABX9TyOCWwJ2mULlTJTlq6UHeAyh",
      "include_colab_link": true
    },
    "kernelspec": {
      "name": "python3",
      "display_name": "Python 3"
    },
    "language_info": {
      "name": "python"
    }
  },
  "cells": [
    {
      "cell_type": "markdown",
      "metadata": {
        "id": "view-in-github",
        "colab_type": "text"
      },
      "source": [
        "<a href=\"https://colab.research.google.com/github/kha199/Machine-Learning/blob/main/Customer_Fraud_Detection_using_Logistics_Regression.ipynb\" target=\"_parent\"><img src=\"https://colab.research.google.com/assets/colab-badge.svg\" alt=\"Open In Colab\"/></a>"
      ]
    },
    {
      "cell_type": "code",
      "metadata": {
        "id": "NnY9GyoZtgJn"
      },
      "source": [
        "import numpy as np\n",
        "import pandas as pd\n",
        "import matplotlib.pyplot as plt"
      ],
      "execution_count": 1,
      "outputs": []
    },
    {
      "cell_type": "code",
      "metadata": {
        "colab": {
          "base_uri": "https://localhost:8080/",
          "height": 343
        },
        "id": "IpyMZ-ixuYUi",
        "outputId": "821698a4-2437-4644-81a9-ccc71ef0ce4d"
      },
      "source": [
        "df = pd.read_csv(\"Customer_DF (1).csv\")\n",
        "df.head()"
      ],
      "execution_count": 31,
      "outputs": [
        {
          "output_type": "execute_result",
          "data": {
            "text/html": [
              "<div>\n",
              "<style scoped>\n",
              "    .dataframe tbody tr th:only-of-type {\n",
              "        vertical-align: middle;\n",
              "    }\n",
              "\n",
              "    .dataframe tbody tr th {\n",
              "        vertical-align: top;\n",
              "    }\n",
              "\n",
              "    .dataframe thead th {\n",
              "        text-align: right;\n",
              "    }\n",
              "</style>\n",
              "<table border=\"1\" class=\"dataframe\">\n",
              "  <thead>\n",
              "    <tr style=\"text-align: right;\">\n",
              "      <th></th>\n",
              "      <th>Unnamed: 0</th>\n",
              "      <th>customerEmail</th>\n",
              "      <th>customerPhone</th>\n",
              "      <th>customerDevice</th>\n",
              "      <th>customerIPAddress</th>\n",
              "      <th>customerBillingAddress</th>\n",
              "      <th>No_Transactions</th>\n",
              "      <th>No_Orders</th>\n",
              "      <th>No_Payments</th>\n",
              "      <th>Fraud</th>\n",
              "    </tr>\n",
              "  </thead>\n",
              "  <tbody>\n",
              "    <tr>\n",
              "      <th>0</th>\n",
              "      <td>0</td>\n",
              "      <td>josephhoward@yahoo.com</td>\n",
              "      <td>400-108-5415</td>\n",
              "      <td>yyeiaxpltf82440jnb3v</td>\n",
              "      <td>8.129.104.40</td>\n",
              "      <td>5493 Jones Islands\\nBrownside, CA 51896</td>\n",
              "      <td>2</td>\n",
              "      <td>2</td>\n",
              "      <td>1</td>\n",
              "      <td>False</td>\n",
              "    </tr>\n",
              "    <tr>\n",
              "      <th>1</th>\n",
              "      <td>1</td>\n",
              "      <td>evansjeffery@yahoo.com</td>\n",
              "      <td>1-788-091-7546</td>\n",
              "      <td>r0jpm7xaeqqa3kr6mzum</td>\n",
              "      <td>219.173.211.202</td>\n",
              "      <td>356 Elizabeth Inlet Suite 120\\nPort Joshuabury...</td>\n",
              "      <td>3</td>\n",
              "      <td>3</td>\n",
              "      <td>7</td>\n",
              "      <td>True</td>\n",
              "    </tr>\n",
              "    <tr>\n",
              "      <th>2</th>\n",
              "      <td>2</td>\n",
              "      <td>andersonwilliam@yahoo.com</td>\n",
              "      <td>024.420.0375</td>\n",
              "      <td>4m7h5ipl1shyavt6vv2r</td>\n",
              "      <td>67b7:3db8:67e0:3bea:b9d0:90c1:2b60:b9f0</td>\n",
              "      <td>8478 Sean Ridges Apt. 441\\nDavisberg, PR 72250</td>\n",
              "      <td>5</td>\n",
              "      <td>3</td>\n",
              "      <td>2</td>\n",
              "      <td>False</td>\n",
              "    </tr>\n",
              "    <tr>\n",
              "      <th>3</th>\n",
              "      <td>3</td>\n",
              "      <td>rubenjuarez@yahoo.com</td>\n",
              "      <td>670.664.8168x94985</td>\n",
              "      <td>slovx60t0i558may4ks0</td>\n",
              "      <td>95de:8565:5a66:792c:26e0:6cfb:7d87:11af</td>\n",
              "      <td>7769 Elizabeth Bridge Apt. 343\\nNortonstad, FM...</td>\n",
              "      <td>3</td>\n",
              "      <td>3</td>\n",
              "      <td>1</td>\n",
              "      <td>False</td>\n",
              "    </tr>\n",
              "    <tr>\n",
              "      <th>4</th>\n",
              "      <td>4</td>\n",
              "      <td>uchen@malone.com</td>\n",
              "      <td>1-981-877-0870</td>\n",
              "      <td>j0pd24k5h8dl2fqu0cz4</td>\n",
              "      <td>196.89.235.192</td>\n",
              "      <td>148 Russell Lodge Apt. 445\\nPort Jenniferside,...</td>\n",
              "      <td>7</td>\n",
              "      <td>7</td>\n",
              "      <td>6</td>\n",
              "      <td>True</td>\n",
              "    </tr>\n",
              "  </tbody>\n",
              "</table>\n",
              "</div>"
            ],
            "text/plain": [
              "   Unnamed: 0              customerEmail  ... No_Payments  Fraud\n",
              "0           0     josephhoward@yahoo.com  ...           1  False\n",
              "1           1     evansjeffery@yahoo.com  ...           7   True\n",
              "2           2  andersonwilliam@yahoo.com  ...           2  False\n",
              "3           3      rubenjuarez@yahoo.com  ...           1  False\n",
              "4           4           uchen@malone.com  ...           6   True\n",
              "\n",
              "[5 rows x 10 columns]"
            ]
          },
          "metadata": {},
          "execution_count": 31
        }
      ]
    },
    {
      "cell_type": "code",
      "metadata": {
        "colab": {
          "base_uri": "https://localhost:8080/"
        },
        "id": "tphAhnzQ1zDv",
        "outputId": "e7b72cdb-f736-45ed-c257-25921fb975fe"
      },
      "source": [
        "df.columns"
      ],
      "execution_count": 32,
      "outputs": [
        {
          "output_type": "execute_result",
          "data": {
            "text/plain": [
              "Index(['Unnamed: 0', 'customerEmail', 'customerPhone', 'customerDevice',\n",
              "       'customerIPAddress', 'customerBillingAddress', 'No_Transactions',\n",
              "       'No_Orders', 'No_Payments', 'Fraud'],\n",
              "      dtype='object')"
            ]
          },
          "metadata": {},
          "execution_count": 32
        }
      ]
    },
    {
      "cell_type": "code",
      "metadata": {
        "colab": {
          "base_uri": "https://localhost:8080/"
        },
        "id": "Y87GUPuMumpG",
        "outputId": "48cd56e0-d9ea-43cb-ce74-69d673fd1a5b"
      },
      "source": [
        "df.shape"
      ],
      "execution_count": 33,
      "outputs": [
        {
          "output_type": "execute_result",
          "data": {
            "text/plain": [
              "(168, 10)"
            ]
          },
          "metadata": {},
          "execution_count": 33
        }
      ]
    },
    {
      "cell_type": "code",
      "metadata": {
        "colab": {
          "base_uri": "https://localhost:8080/"
        },
        "id": "RjeysrUTvzQT",
        "outputId": "081cc0a8-7540-47f6-b007-251fda045499"
      },
      "source": [
        "df.isnull().sum()"
      ],
      "execution_count": 34,
      "outputs": [
        {
          "output_type": "execute_result",
          "data": {
            "text/plain": [
              "Unnamed: 0                0\n",
              "customerEmail             0\n",
              "customerPhone             0\n",
              "customerDevice            0\n",
              "customerIPAddress         0\n",
              "customerBillingAddress    0\n",
              "No_Transactions           0\n",
              "No_Orders                 0\n",
              "No_Payments               0\n",
              "Fraud                     0\n",
              "dtype: int64"
            ]
          },
          "metadata": {},
          "execution_count": 34
        }
      ]
    },
    {
      "cell_type": "code",
      "metadata": {
        "colab": {
          "base_uri": "https://localhost:8080/",
          "height": 411
        },
        "id": "0z-Y0rmC6jdR",
        "outputId": "915ce5c5-bddc-48a9-8177-0bc20e66edac"
      },
      "source": [
        "df.tail()"
      ],
      "execution_count": 35,
      "outputs": [
        {
          "output_type": "execute_result",
          "data": {
            "text/html": [
              "<div>\n",
              "<style scoped>\n",
              "    .dataframe tbody tr th:only-of-type {\n",
              "        vertical-align: middle;\n",
              "    }\n",
              "\n",
              "    .dataframe tbody tr th {\n",
              "        vertical-align: top;\n",
              "    }\n",
              "\n",
              "    .dataframe thead th {\n",
              "        text-align: right;\n",
              "    }\n",
              "</style>\n",
              "<table border=\"1\" class=\"dataframe\">\n",
              "  <thead>\n",
              "    <tr style=\"text-align: right;\">\n",
              "      <th></th>\n",
              "      <th>Unnamed: 0</th>\n",
              "      <th>customerEmail</th>\n",
              "      <th>customerPhone</th>\n",
              "      <th>customerDevice</th>\n",
              "      <th>customerIPAddress</th>\n",
              "      <th>customerBillingAddress</th>\n",
              "      <th>No_Transactions</th>\n",
              "      <th>No_Orders</th>\n",
              "      <th>No_Payments</th>\n",
              "      <th>Fraud</th>\n",
              "    </tr>\n",
              "  </thead>\n",
              "  <tbody>\n",
              "    <tr>\n",
              "      <th>163</th>\n",
              "      <td>163</td>\n",
              "      <td>mitchellvickie@brewer-jones.com</td>\n",
              "      <td>313-124-3836x3528</td>\n",
              "      <td>ecu7ezz0ue67v3fce1o3</td>\n",
              "      <td>181.90.104.120</td>\n",
              "      <td>829 Ramirez Dam Suite 648\\nGatesview, OR 55669...</td>\n",
              "      <td>3</td>\n",
              "      <td>3</td>\n",
              "      <td>1</td>\n",
              "      <td>True</td>\n",
              "    </tr>\n",
              "    <tr>\n",
              "      <th>164</th>\n",
              "      <td>164</td>\n",
              "      <td>sbrown@hughes.biz</td>\n",
              "      <td>(250)632-6631x02499</td>\n",
              "      <td>xgv918sclaz40qlp2fee</td>\n",
              "      <td>16.166.2.0</td>\n",
              "      <td>9472 Pacheco Islands Suite 940\\nDrewburgh, AZ ...</td>\n",
              "      <td>6</td>\n",
              "      <td>5</td>\n",
              "      <td>3</td>\n",
              "      <td>True</td>\n",
              "    </tr>\n",
              "    <tr>\n",
              "      <th>165</th>\n",
              "      <td>165</td>\n",
              "      <td>johnlowery@gmail.com</td>\n",
              "      <td>635.676.0955x524</td>\n",
              "      <td>969zz9zdj8z4gns4sx5p</td>\n",
              "      <td>f82c:811f:8a02:e2d6:79b:fcaa:42de:570b</td>\n",
              "      <td>548 Bryant Inlet\\nVeronicaside, OK 00522</td>\n",
              "      <td>4</td>\n",
              "      <td>4</td>\n",
              "      <td>2</td>\n",
              "      <td>True</td>\n",
              "    </tr>\n",
              "    <tr>\n",
              "      <th>166</th>\n",
              "      <td>166</td>\n",
              "      <td>ethompson@jackson-sanders.com</td>\n",
              "      <td>962.300.2250</td>\n",
              "      <td>navessqcnmc9csfjn5cj</td>\n",
              "      <td>203.246.172.244</td>\n",
              "      <td>16953 Jennifer Springs\\nKathybury, IL 02095-3215</td>\n",
              "      <td>8</td>\n",
              "      <td>6</td>\n",
              "      <td>6</td>\n",
              "      <td>True</td>\n",
              "    </tr>\n",
              "    <tr>\n",
              "      <th>167</th>\n",
              "      <td>167</td>\n",
              "      <td>dawn05@tucker-brown.com</td>\n",
              "      <td>(089)703-7360x8848</td>\n",
              "      <td>lu4fgcug8dr0dwbcuui1</td>\n",
              "      <td>132.132.95.33</td>\n",
              "      <td>130 Kimberly Junctions\\nEricmouth, KS 59756-2919</td>\n",
              "      <td>7</td>\n",
              "      <td>5</td>\n",
              "      <td>4</td>\n",
              "      <td>False</td>\n",
              "    </tr>\n",
              "  </tbody>\n",
              "</table>\n",
              "</div>"
            ],
            "text/plain": [
              "     Unnamed: 0                    customerEmail  ... No_Payments  Fraud\n",
              "163         163  mitchellvickie@brewer-jones.com  ...           1   True\n",
              "164         164                sbrown@hughes.biz  ...           3   True\n",
              "165         165             johnlowery@gmail.com  ...           2   True\n",
              "166         166    ethompson@jackson-sanders.com  ...           6   True\n",
              "167         167          dawn05@tucker-brown.com  ...           4  False\n",
              "\n",
              "[5 rows x 10 columns]"
            ]
          },
          "metadata": {},
          "execution_count": 35
        }
      ]
    },
    {
      "cell_type": "code",
      "metadata": {
        "colab": {
          "base_uri": "https://localhost:8080/",
          "height": 204
        },
        "id": "gE3Nui3O6wKu",
        "outputId": "b63849b0-8a08-43d1-9299-c74df2742ca9"
      },
      "source": [
        "x = df[[\"No_Transactions\",\"No_Orders\",\"No_Payments\"]]\n",
        "x.head()"
      ],
      "execution_count": 36,
      "outputs": [
        {
          "output_type": "execute_result",
          "data": {
            "text/html": [
              "<div>\n",
              "<style scoped>\n",
              "    .dataframe tbody tr th:only-of-type {\n",
              "        vertical-align: middle;\n",
              "    }\n",
              "\n",
              "    .dataframe tbody tr th {\n",
              "        vertical-align: top;\n",
              "    }\n",
              "\n",
              "    .dataframe thead th {\n",
              "        text-align: right;\n",
              "    }\n",
              "</style>\n",
              "<table border=\"1\" class=\"dataframe\">\n",
              "  <thead>\n",
              "    <tr style=\"text-align: right;\">\n",
              "      <th></th>\n",
              "      <th>No_Transactions</th>\n",
              "      <th>No_Orders</th>\n",
              "      <th>No_Payments</th>\n",
              "    </tr>\n",
              "  </thead>\n",
              "  <tbody>\n",
              "    <tr>\n",
              "      <th>0</th>\n",
              "      <td>2</td>\n",
              "      <td>2</td>\n",
              "      <td>1</td>\n",
              "    </tr>\n",
              "    <tr>\n",
              "      <th>1</th>\n",
              "      <td>3</td>\n",
              "      <td>3</td>\n",
              "      <td>7</td>\n",
              "    </tr>\n",
              "    <tr>\n",
              "      <th>2</th>\n",
              "      <td>5</td>\n",
              "      <td>3</td>\n",
              "      <td>2</td>\n",
              "    </tr>\n",
              "    <tr>\n",
              "      <th>3</th>\n",
              "      <td>3</td>\n",
              "      <td>3</td>\n",
              "      <td>1</td>\n",
              "    </tr>\n",
              "    <tr>\n",
              "      <th>4</th>\n",
              "      <td>7</td>\n",
              "      <td>7</td>\n",
              "      <td>6</td>\n",
              "    </tr>\n",
              "  </tbody>\n",
              "</table>\n",
              "</div>"
            ],
            "text/plain": [
              "   No_Transactions  No_Orders  No_Payments\n",
              "0                2          2            1\n",
              "1                3          3            7\n",
              "2                5          3            2\n",
              "3                3          3            1\n",
              "4                7          7            6"
            ]
          },
          "metadata": {},
          "execution_count": 36
        }
      ]
    },
    {
      "cell_type": "code",
      "metadata": {
        "colab": {
          "base_uri": "https://localhost:8080/",
          "height": 204
        },
        "id": "Zkn6znKI68Kv",
        "outputId": "5d74cdb3-f3ca-413d-d8ac-a605d333b4aa"
      },
      "source": [
        "y = df[[\"Fraud\"]]\n",
        "y.head()"
      ],
      "execution_count": 37,
      "outputs": [
        {
          "output_type": "execute_result",
          "data": {
            "text/html": [
              "<div>\n",
              "<style scoped>\n",
              "    .dataframe tbody tr th:only-of-type {\n",
              "        vertical-align: middle;\n",
              "    }\n",
              "\n",
              "    .dataframe tbody tr th {\n",
              "        vertical-align: top;\n",
              "    }\n",
              "\n",
              "    .dataframe thead th {\n",
              "        text-align: right;\n",
              "    }\n",
              "</style>\n",
              "<table border=\"1\" class=\"dataframe\">\n",
              "  <thead>\n",
              "    <tr style=\"text-align: right;\">\n",
              "      <th></th>\n",
              "      <th>Fraud</th>\n",
              "    </tr>\n",
              "  </thead>\n",
              "  <tbody>\n",
              "    <tr>\n",
              "      <th>0</th>\n",
              "      <td>False</td>\n",
              "    </tr>\n",
              "    <tr>\n",
              "      <th>1</th>\n",
              "      <td>True</td>\n",
              "    </tr>\n",
              "    <tr>\n",
              "      <th>2</th>\n",
              "      <td>False</td>\n",
              "    </tr>\n",
              "    <tr>\n",
              "      <th>3</th>\n",
              "      <td>False</td>\n",
              "    </tr>\n",
              "    <tr>\n",
              "      <th>4</th>\n",
              "      <td>True</td>\n",
              "    </tr>\n",
              "  </tbody>\n",
              "</table>\n",
              "</div>"
            ],
            "text/plain": [
              "   Fraud\n",
              "0  False\n",
              "1   True\n",
              "2  False\n",
              "3  False\n",
              "4   True"
            ]
          },
          "metadata": {},
          "execution_count": 37
        }
      ]
    },
    {
      "cell_type": "code",
      "metadata": {
        "colab": {
          "base_uri": "https://localhost:8080/"
        },
        "id": "v5ziKgBn7DJ1",
        "outputId": "f4cd1330-b8d5-4cb5-fcb3-5cea1196537d"
      },
      "source": [
        "x.dtypes"
      ],
      "execution_count": 42,
      "outputs": [
        {
          "output_type": "execute_result",
          "data": {
            "text/plain": [
              "No_Transactions    int64\n",
              "No_Orders          int64\n",
              "No_Payments        int64\n",
              "dtype: object"
            ]
          },
          "metadata": {},
          "execution_count": 42
        }
      ]
    },
    {
      "cell_type": "markdown",
      "metadata": {
        "id": "hmm0IYIhJSIZ"
      },
      "source": [
        "**TRAIN TEST**"
      ]
    },
    {
      "cell_type": "code",
      "metadata": {
        "id": "88JL3O2o7lwo"
      },
      "source": [
        "from sklearn.model_selection import train_test_split\n",
        "x_train,x_test,y_train,y_test = train_test_split(x,y,test_size=0.2,random_state=4)"
      ],
      "execution_count": 44,
      "outputs": []
    },
    {
      "cell_type": "code",
      "metadata": {
        "colab": {
          "base_uri": "https://localhost:8080/"
        },
        "id": "7HqE365q8Cox",
        "outputId": "e7f82b89-21c2-42c8-e2eb-9e73513b9c3b"
      },
      "source": [
        "x_train.shape"
      ],
      "execution_count": 45,
      "outputs": [
        {
          "output_type": "execute_result",
          "data": {
            "text/plain": [
              "(134, 3)"
            ]
          },
          "metadata": {},
          "execution_count": 45
        }
      ]
    },
    {
      "cell_type": "code",
      "metadata": {
        "colab": {
          "base_uri": "https://localhost:8080/"
        },
        "id": "n6IRVk1H8GXG",
        "outputId": "0e7dd9e5-e8f4-458f-9212-22990068a0f5"
      },
      "source": [
        "y_train.shape"
      ],
      "execution_count": 46,
      "outputs": [
        {
          "output_type": "execute_result",
          "data": {
            "text/plain": [
              "(134, 1)"
            ]
          },
          "metadata": {},
          "execution_count": 46
        }
      ]
    },
    {
      "cell_type": "code",
      "metadata": {
        "colab": {
          "base_uri": "https://localhost:8080/"
        },
        "id": "0heeeIHp8K-F",
        "outputId": "e8c54a56-42d2-42dd-9b09-ce161ebd1ab6"
      },
      "source": [
        "print(x_test.shape)\n",
        "print(y_test.shape)"
      ],
      "execution_count": 48,
      "outputs": [
        {
          "output_type": "stream",
          "text": [
            "(34, 3)\n",
            "(34, 1)\n"
          ],
          "name": "stdout"
        }
      ]
    },
    {
      "cell_type": "markdown",
      "metadata": {
        "id": "X7VvU5ywJPvT"
      },
      "source": [
        "**MODEL**"
      ]
    },
    {
      "cell_type": "code",
      "metadata": {
        "colab": {
          "base_uri": "https://localhost:8080/"
        },
        "id": "sImG8A7S8Ygh",
        "outputId": "1a8fc04b-ae70-42e2-f49d-eb6f66b0e52c"
      },
      "source": [
        "from sklearn.linear_model import LogisticRegression\n",
        "\n",
        "clf = LogisticRegression(C=0.01, solver='lbfgs').fit(x_train,y_train)"
      ],
      "execution_count": 67,
      "outputs": [
        {
          "output_type": "stream",
          "text": [
            "/usr/local/lib/python3.7/dist-packages/sklearn/utils/validation.py:760: DataConversionWarning: A column-vector y was passed when a 1d array was expected. Please change the shape of y to (n_samples, ), for example using ravel().\n",
            "  y = column_or_1d(y, warn=True)\n"
          ],
          "name": "stderr"
        }
      ]
    },
    {
      "cell_type": "code",
      "metadata": {
        "colab": {
          "base_uri": "https://localhost:8080/"
        },
        "id": "PPWs-ftc8sXs",
        "outputId": "96639d26-45b1-42ee-a9c6-5a1c6d73a296"
      },
      "source": [
        "y_hat=clf.predict(x_test)\n",
        "y_hat"
      ],
      "execution_count": 51,
      "outputs": [
        {
          "output_type": "execute_result",
          "data": {
            "text/plain": [
              "array([ True, False, False, False, False, False, False, False,  True,\n",
              "        True, False, False, False, False, False, False, False, False,\n",
              "       False, False, False, False, False, False, False, False, False,\n",
              "       False, False, False, False, False, False,  True])"
            ]
          },
          "metadata": {},
          "execution_count": 51
        }
      ]
    },
    {
      "cell_type": "code",
      "metadata": {
        "colab": {
          "base_uri": "https://localhost:8080/"
        },
        "id": "3A2bUSi89Bi2",
        "outputId": "abd78f2c-ec8d-46db-bc96-1102ddaa5c6a"
      },
      "source": [
        "clf.predict([[2,2,1]])"
      ],
      "execution_count": 53,
      "outputs": [
        {
          "output_type": "execute_result",
          "data": {
            "text/plain": [
              "array([False])"
            ]
          },
          "metadata": {},
          "execution_count": 53
        }
      ]
    },
    {
      "cell_type": "code",
      "metadata": {
        "colab": {
          "base_uri": "https://localhost:8080/"
        },
        "id": "MYpCOC1IGTur",
        "outputId": "8c412ca4-fb6e-41c2-b285-010f410a98cb"
      },
      "source": [
        "yhat = clf.predict_proba(x_test)\n",
        "yhat"
      ],
      "execution_count": 73,
      "outputs": [
        {
          "output_type": "execute_result",
          "data": {
            "text/plain": [
              "array([[0.1286399 , 0.8713601 ],\n",
              "       [0.50830104, 0.49169896],\n",
              "       [0.55666624, 0.44333376],\n",
              "       [0.58729169, 0.41270831],\n",
              "       [0.68823357, 0.31176643],\n",
              "       [0.59994266, 0.40005734],\n",
              "       [0.58592946, 0.41407054],\n",
              "       [0.73926448, 0.26073552],\n",
              "       [0.39936542, 0.60063458],\n",
              "       [0.46257176, 0.53742824],\n",
              "       [0.71328536, 0.28671464],\n",
              "       [0.67317399, 0.32682601],\n",
              "       [0.61592815, 0.38407185],\n",
              "       [0.67440869, 0.32559131],\n",
              "       [0.61725616, 0.38274384],\n",
              "       [0.660772  , 0.339228  ],\n",
              "       [0.6303591 , 0.3696409 ],\n",
              "       [0.55389183, 0.44610817],\n",
              "       [0.54089899, 0.45910101],\n",
              "       [0.5395037 , 0.4604963 ],\n",
              "       [0.77398785, 0.22601215],\n",
              "       [0.58592946, 0.41407054],\n",
              "       [0.61459841, 0.38540159],\n",
              "       [0.77398785, 0.22601215],\n",
              "       [0.68823357, 0.31176643],\n",
              "       [0.71443281, 0.28556719],\n",
              "       [0.65824912, 0.34175088],\n",
              "       [0.58592946, 0.41407054],\n",
              "       [0.73926448, 0.26073552],\n",
              "       [0.660772  , 0.339228  ],\n",
              "       [0.67440869, 0.32559131],\n",
              "       [0.55250336, 0.44749664],\n",
              "       [0.58592946, 0.41407054],\n",
              "       [0.33984106, 0.66015894]])"
            ]
          },
          "metadata": {},
          "execution_count": 73
        }
      ]
    },
    {
      "cell_type": "markdown",
      "metadata": {
        "id": "TAIGgIR_G0Pr"
      },
      "source": [
        "**EVALUATION**"
      ]
    },
    {
      "cell_type": "markdown",
      "metadata": {
        "id": "Tqe92QVuG-Nv"
      },
      "source": [
        "**ACCURACY SCORE**"
      ]
    },
    {
      "cell_type": "code",
      "metadata": {
        "colab": {
          "base_uri": "https://localhost:8080/"
        },
        "id": "Pn4g7tug9Sg2",
        "outputId": "fe66bd6f-8d08-4d9a-ffeb-cfbeeafbddf1"
      },
      "source": [
        "from sklearn import metrics\n",
        "\n",
        "print(\"Logistic Regression Accuracy: %.2f\"% metrics.accuracy_score(y_hat,y_test))"
      ],
      "execution_count": 57,
      "outputs": [
        {
          "output_type": "stream",
          "text": [
            "Logistic Regression Accuracy: 0.76\n"
          ],
          "name": "stdout"
        }
      ]
    },
    {
      "cell_type": "markdown",
      "metadata": {
        "id": "VfUIW3eWHEyd"
      },
      "source": [
        "**CONFUSION METRICS**"
      ]
    },
    {
      "cell_type": "code",
      "metadata": {
        "colab": {
          "base_uri": "https://localhost:8080/"
        },
        "id": "9B3cnmJf-mVi",
        "outputId": "a20fc557-1906-4fb2-b26a-81e37aacd1f0"
      },
      "source": [
        "from sklearn.metrics import confusion_matrix\n",
        "\n",
        "cm = confusion_matrix(y_test,y_hat)\n",
        "cm"
      ],
      "execution_count": 69,
      "outputs": [
        {
          "output_type": "execute_result",
          "data": {
            "text/plain": [
              "array([[23,  1],\n",
              "       [ 7,  3]])"
            ]
          },
          "metadata": {},
          "execution_count": 69
        }
      ]
    },
    {
      "cell_type": "code",
      "metadata": {
        "colab": {
          "base_uri": "https://localhost:8080/",
          "height": 475
        },
        "id": "aiA-9klh-mN8",
        "outputId": "613d762f-76c9-445d-b32c-e7f5d24748b7"
      },
      "source": [
        "import seaborn as sn\n",
        "plt.figure(figsize=(10,7))\n",
        "sn.heatmap(cm, annot=True, cmap=plt.cm.Blues)\n",
        "plt.title(\"CONFUSION MATRIX\")\n",
        "plt.ylabel(\"Actual Values\")\n",
        "plt.xlabel(\"Predicted Values\")"
      ],
      "execution_count": 70,
      "outputs": [
        {
          "output_type": "execute_result",
          "data": {
            "text/plain": [
              "Text(0.5, 42.0, 'Predicted Values')"
            ]
          },
          "metadata": {},
          "execution_count": 70
        },
        {
          "output_type": "display_data",
          "data": {
            "image/png": "[encoded data removed]",
            "text/plain": [
              "<Figure size 720x504 with 2 Axes>"
            ]
          },
          "metadata": {
            "needs_background": "light"
          }
        }
      ]
    },
    {
      "cell_type": "markdown",
      "metadata": {
        "id": "nNt2AVH2HLxA"
      },
      "source": [
        "**JACCARD INDEX**"
      ]
    },
    {
      "cell_type": "code",
      "metadata": {
        "colab": {
          "base_uri": "https://localhost:8080/"
        },
        "id": "cqOCsVDCGumS",
        "outputId": "7d191d66-0529-4ab1-f579-c00f5fa4219d"
      },
      "source": [
        "from sklearn.metrics import jaccard_similarity_score\n",
        "\n",
        "jaccard_similarity_score(y_test,y_hat)"
      ],
      "execution_count": 78,
      "outputs": [
        {
          "output_type": "stream",
          "text": [
            "/usr/local/lib/python3.7/dist-packages/sklearn/metrics/_classification.py:664: FutureWarning: jaccard_similarity_score has been deprecated and replaced with jaccard_score. It will be removed in version 0.23. This implementation has surprising behavior for binary and multiclass classification tasks.\n",
            "  FutureWarning)\n"
          ],
          "name": "stderr"
        },
        {
          "output_type": "execute_result",
          "data": {
            "text/plain": [
              "0.7647058823529411"
            ]
          },
          "metadata": {},
          "execution_count": 78
        }
      ]
    },
    {
      "cell_type": "markdown",
      "metadata": {
        "id": "1pGdEBAOJA01"
      },
      "source": [
        "**CLASSIFICATION REPORT**"
      ]
    },
    {
      "cell_type": "code",
      "metadata": {
        "colab": {
          "base_uri": "https://localhost:8080/"
        },
        "id": "HjDoRG2PID5k",
        "outputId": "c439cdf1-56cd-4077-ce83-953798f5ba3d"
      },
      "source": [
        "from sklearn.metrics import classification_report\n",
        "\n",
        "print(classification_report(y_test,y_hat))"
      ],
      "execution_count": 79,
      "outputs": [
        {
          "output_type": "stream",
          "text": [
            "              precision    recall  f1-score   support\n",
            "\n",
            "       False       0.77      0.96      0.85        24\n",
            "        True       0.75      0.30      0.43        10\n",
            "\n",
            "    accuracy                           0.76        34\n",
            "   macro avg       0.76      0.63      0.64        34\n",
            "weighted avg       0.76      0.76      0.73        34\n",
            "\n"
          ],
          "name": "stdout"
        }
      ]
    },
    {
      "cell_type": "markdown",
      "metadata": {
        "id": "xAQLP3PwI8ti"
      },
      "source": [
        "**LOG LOSS**"
      ]
    },
    {
      "cell_type": "code",
      "metadata": {
        "colab": {
          "base_uri": "https://localhost:8080/"
        },
        "id": "mIyS7ZMwIVXk",
        "outputId": "dfdbf287-4cf3-4a74-becb-c84f4aa36e5e"
      },
      "source": [
        "from sklearn.metrics import log_loss\n",
        "print(log_loss(y_test,yhat))"
      ],
      "execution_count": 80,
      "outputs": [
        {
          "output_type": "stream",
          "text": [
            "0.5724775734409036\n"
          ],
          "name": "stdout"
        }
      ]
    }
  ]
}